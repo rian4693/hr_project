{
 "cells": [
  {
   "cell_type": "markdown",
   "metadata": {},
   "source": [
    "# HR ATTRITION ANALYSIS\n",
    "\n",
    "#### High employee turnover rate has never been fun for a company to have. After spending a significant amount of fund in benefits, trainings, and other activity based costs, a company cannot really force the employees to stay. Recruiting new employees is the only way to keep the business going, but it is not cheap. The worst thing about losing employees is not knowing the reason behind it. Without knowing the reason, recruiting more employees will be useless and ended up losing money even more. \n",
    "\n",
    "#### This analysis will show how we can analyze the attrition rate of employees in a company and present it using ggplot charts. To make this easier to understand, I have divided the analysis into four parts that explains each function. "
   ]
  },
  {
   "cell_type": "markdown",
   "metadata": {},
   "source": [
    "## PART 1 - PREPARATION\n",
    "### SUMMARY"
   ]
  },
  {
   "cell_type": "markdown",
   "metadata": {},
   "source": [
    "Before making the analysis, we need to make sure we have all the required libraries for this analysis. For this analysis, we will be using \"caret\" package, \"ggplot\" package, \"ggcorrplot\" package, and \"pROC\" package.\n",
    "\n",
    "- \"caret\"       = used primarily for Regression and Classification to narrow down the model training process. \n",
    "\n",
    "- \"ggplot\"      = provides customizable plots to map variable to aesthetic.\n",
    "\n",
    "- \"ggcorrplot\"  = can be used to visualize the correlation matrix using ggplot function.\n",
    "\n",
    "- \"pROC\"        = tools for visualizing, smoothing and comparing receiver operating characteristic (ROC curves).\n",
    "\n",
    "- \"randomForest = to build a model using random forest method."
   ]
  },
  {
   "cell_type": "code",
   "execution_count": null,
   "metadata": {
    "scrolled": true
   },
   "outputs": [],
   "source": [
    "# Install and load the appropriate libraries\n",
    "\n",
    "shh <- suppressPackageStartupMessages # Silent the function warnings\n",
    "shh(library(caret))\n",
    "shh(library(ggplot2))\n",
    "shh(library(ggcorrplot))\n",
    "shh(library(pROC))\n",
    "shh(library(randomForest))\n"
   ]
  },
  {
   "cell_type": "markdown",
   "metadata": {},
   "source": [
    "Next, I am going to load the \"csv file\" of our dataset from the company. I uploaded my csv file to GitHub, an online hosting for software development. The link that I generated for the csv file was lengthy and did not look clean, so I used \"bit.ly\" service to shorten that lengthy link address."
   ]
  },
  {
   "cell_type": "code",
   "execution_count": null,
   "metadata": {},
   "outputs": [],
   "source": [
    "# Load the CSV file with employee data\n",
    "hr_data <- read.csv('http://bit.ly/2Mw5pyl')"
   ]
  },
  {
   "cell_type": "markdown",
   "metadata": {},
   "source": [
    "### DATA EXPLORATION"
   ]
  },
  {
   "cell_type": "markdown",
   "metadata": {},
   "source": [
    "After loading the csv data, I am going to explore the dataset for this analysis. I need to know the list, description, as well as the first few part of the data. By performing this step, I can be sure that I have the correct dataset.\n",
    "There are three functions for this step:\n",
    "1. str = to list and describe the columns\n",
    "2. head = to see the first few data\n",
    "3. summary = to know the descriptive statistics of the data"
   ]
  },
  {
   "cell_type": "code",
   "execution_count": null,
   "metadata": {
    "scrolled": true
   },
   "outputs": [],
   "source": [
    "# Lists and describes each of the fields (columns)\n",
    "str(hr_data)"
   ]
  },
  {
   "cell_type": "code",
   "execution_count": null,
   "metadata": {},
   "outputs": [],
   "source": [
    "# Explores the first few records in the dataset.\n",
    "head(hr_data)"
   ]
  },
  {
   "cell_type": "code",
   "execution_count": null,
   "metadata": {},
   "outputs": [],
   "source": [
    "# Calculates descriptive statistics for each field.\n",
    "summary(hr_data)"
   ]
  },
  {
   "cell_type": "markdown",
   "metadata": {},
   "source": [
    "## PART 2 - GRAPH DATASET\n",
    "### SUMMARY"
   ]
  },
  {
   "cell_type": "markdown",
   "metadata": {},
   "source": [
    "After making sure I have the right dataset, I am going to answer some questions about the correlation between columns and put them in graphs using \"ggplot\" function. These questions are typically asked by the stakeholders in the company to find out the reason behind the employee turnover. The graphs that I will be presenting not necessarily show causation, but correlation."
   ]
  },
  {
   "cell_type": "markdown",
   "metadata": {},
   "source": [
    "### QUESTION 1 - \"Does one gender tend to quit more frequently than the other?\""
   ]
  },
  {
   "cell_type": "code",
   "execution_count": null,
   "metadata": {},
   "outputs": [],
   "source": [
    "# Correlation Between Gender and the Number of Attrition\n",
    "\n",
    "Gender <- ggplot(hr_data, aes(Gender, fill=factor(Attrition))) + \n",
    "            labs(title=\"Correlation Between Gender and the of Attrition\",     \n",
    "                 caption=\"Source: hr_data\") +\n",
    "            scale_fill_manual(values = c(\"darkgreen\",\"red\"),name=\"Attrition\", labels =c (\"No\",\"Yes\")) +\n",
    "            theme_dark() +\n",
    "            theme(plot.title = element_text(face = \"bold\", colour = \"cornflowerblue\"), \n",
    "            axis.title.x = element_text(face = \"bold\", colour = \"darkblue\"),\n",
    "            axis.title.y = element_text(face = \"bold\", colour = \"firebrick\"))\n",
    "Gender + geom_bar() + xlab(\"Gender\") + ylab(\"Number of Employee\")       \n",
    "Gender + geom_bar(position = \"fill\") + xlab(\"Gender\") + ylab(\"Percentage\")"
   ]
  },
  {
   "cell_type": "markdown",
   "metadata": {},
   "source": [
    "From the chart above, it seems like the number of attrition in male employees are much higher. However, it should be noted that the overall number of male employees is much higher than female. The realitiy is the gender does not significantly affect the number of attrition "
   ]
  },
  {
   "cell_type": "markdown",
   "metadata": {},
   "source": [
    "### QUESTION 2 - \"Does age appear to make a difference? Are our younger workers less committed to our company?\""
   ]
  },
  {
   "cell_type": "code",
   "execution_count": null,
   "metadata": {},
   "outputs": [],
   "source": [
    "# Correlation Between Gender and the Number of Attrition\n",
    "Age <- ggplot(hr_data, aes(Attrition, Age)) +\n",
    "       labs(title=\"Correlation Between Age and the Number of Attrition\",     \n",
    "            caption=\"Source: hr_data\") +\n",
    "            theme_dark() +\n",
    "            scale_fill_manual(name=\"Attrition\", labels =c(\"No\",\"Yes\")) +\n",
    "            theme(plot.title = element_text(face = \"bold\", colour = \"cornflowerblue\"), \n",
    "            axis.title.x = element_text(face = \"bold\", colour = \"darkblue\"),\n",
    "            axis.title.y = element_text(face = \"bold\", colour = \"firebrick\"))\n",
    "\n",
    "Age + geom_smooth(method = \"gam\")\n"
   ]
  },
  {
   "cell_type": "markdown",
   "metadata": {},
   "source": [
    "### QUESTION 3 - \"Correlation Between Overtime and the of Attrition?\""
   ]
  },
  {
   "cell_type": "code",
   "execution_count": null,
   "metadata": {},
   "outputs": [],
   "source": [
    "OT <- ggplot(hr_data, aes(OverTime, fill=factor(Attrition))) + \n",
    "            labs(title=\"Correlation Between Overtime and the of Attrition\",     \n",
    "                 caption=\"Source: hr_data\") +\n",
    "            scale_fill_manual(values = c(\"navy\",\"orange\"),name=\"Attrition\", labels =c (\"No\",\"Yes\")) +\n",
    "            theme_dark() +\n",
    "            theme(plot.title = element_text(face = \"bold\", colour = \"cornflowerblue\"), \n",
    "            axis.title.x = element_text(face = \"bold\", colour = \"darkblue\"),\n",
    "            axis.title.y = element_text(face = \"bold\", colour = \"firebrick\"))\n",
    "OT + geom_bar() + xlab(\"Over Time\") + ylab(\"Number of Employee\")       \n",
    "OT + geom_bar(position = \"fill\") + xlab(\"Over Time\") + ylab(\"Percentage\")"
   ]
  },
  {
   "cell_type": "markdown",
   "metadata": {},
   "source": [
    "## PART 3 - PREPARE DATA FOR MODELING\n",
    "### SUMMARY"
   ]
  },
  {
   "cell_type": "markdown",
   "metadata": {},
   "source": [
    "The next thing that we want to do is to make sure we don't have empty data in our dataset."
   ]
  },
  {
   "cell_type": "code",
   "execution_count": null,
   "metadata": {},
   "outputs": [],
   "source": [
    "# Sum number of rows that has no value\n",
    "sum(is.na(hr_data))"
   ]
  },
  {
   "cell_type": "code",
   "execution_count": null,
   "metadata": {},
   "outputs": [],
   "source": [
    "cor <- cor(hr_data[c(3,8,12:25)])\n",
    "options(repr.plot.width=7, repr.plot.height=5)\n",
    "ggcorrplot(cor)"
   ]
  },
  {
   "cell_type": "markdown",
   "metadata": {},
   "source": [
    "The is.na function shows that there is no data that has no value. Now, we can split our dataset into training data and test data. We are going to do 80/20 randomly in our new training and test data."
   ]
  },
  {
   "cell_type": "code",
   "execution_count": null,
   "metadata": {},
   "outputs": [],
   "source": [
    "# Split data into training and test using randomized method\n",
    "set.seed(3456)\n",
    "trainIndex <- createDataPartition(hr_data$Attrition, p = .8, \n",
    "                                  list = FALSE, times = 1)\n",
    "hr_train <- hr_data[ trainIndex,]\n",
    "hr_test  <- hr_data[-trainIndex,]"
   ]
  },
  {
   "cell_type": "code",
   "execution_count": null,
   "metadata": {},
   "outputs": [],
   "source": [
    "head(hr_train)"
   ]
  },
  {
   "cell_type": "code",
   "execution_count": null,
   "metadata": {},
   "outputs": [],
   "source": [
    "head(hr_train)"
   ]
  },
  {
   "cell_type": "markdown",
   "metadata": {},
   "source": [
    "## PART 4 - BUILDING AND EVALUATING A MODEL TO PREDICT ATTRITION\n",
    "### SUMMARY"
   ]
  },
  {
   "cell_type": "markdown",
   "metadata": {},
   "source": [
    "It looks good! The Employee Number in our training data is random. Now, we can start building our new model to predict our attrition. We will be using logistic regression or glm function for this process."
   ]
  },
  {
   "cell_type": "markdown",
   "metadata": {},
   "source": [
    "We are going to start with our initial model. I put all the columns to see which columns are statistically significant. We will choose a couple of columns that have the lowest variants.\n",
    "\n",
    "Techniques we can use are For that reason, I will show the comparison between Logistic Regression and Random Forest methods."
   ]
  },
  {
   "cell_type": "markdown",
   "metadata": {},
   "source": [
    "### METHOD 1 - LOGISTIC REGRESSION"
   ]
  },
  {
   "cell_type": "markdown",
   "metadata": {},
   "source": [
    "First step is to build the model. I used all the variables and compared it to the limited variables, which will be shown in a bit."
   ]
  },
  {
   "cell_type": "code",
   "execution_count": null,
   "metadata": {},
   "outputs": [],
   "source": [
    "# Build a model with the training data that predicts Attrition using logistic regression\n",
    "# Initial Build\n",
    "hr_model_lr_initial <- glm(Attrition ~ ., \n",
    "                   data=hr_train, family=binomial)\n",
    "summary(hr_model_lr_initial)"
   ]
  },
  {
   "cell_type": "markdown",
   "metadata": {},
   "source": [
    "We are done building our model using all variable. We can see the importance of each variable by looking at the P-Value and the asterisks on the right side. However, this will not be very practical to do if we have incredibly large dataset. What we can do is to rank the importance using varImp function."
   ]
  },
  {
   "cell_type": "code",
   "execution_count": null,
   "metadata": {},
   "outputs": [],
   "source": [
    "varImp(hr_model_lr_initial)"
   ]
  },
  {
   "cell_type": "markdown",
   "metadata": {},
   "source": [
    "After doing some trials, I came out with two variables. We will go ahead and use these two variables in our final model."
   ]
  },
  {
   "cell_type": "code",
   "execution_count": null,
   "metadata": {},
   "outputs": [],
   "source": [
    "hr_model_lr_final <- glm(Attrition ~ OverTime +\n",
    "                      JobInvolvement, \n",
    "                       data=hr_train, family=binomial)\n",
    "summary(hr_model_lr_final)"
   ]
  },
  {
   "cell_type": "markdown",
   "metadata": {},
   "source": [
    "Everything looks good! Now, we will use the final model to predict our Attrition. We will use predict function for this step."
   ]
  },
  {
   "cell_type": "code",
   "execution_count": null,
   "metadata": {},
   "outputs": [],
   "source": [
    "# Predict initial “attrition” for customers in the test data using all variables\n",
    "hr_test$Attrition_pred_lr_initial <- predict(hr_model_lr_initial, newdata=hr_test, type=\"response\")\n",
    "head(hr_test)\n",
    "\n",
    "# Predict final “attrition” for customers in the test data using limited variables\n",
    "hr_test$Attrition_pred_lr_final <- predict(hr_model_lr_final, newdata=hr_test, type=\"response\")\n",
    "head(hr_test)"
   ]
  },
  {
   "cell_type": "code",
   "execution_count": null,
   "metadata": {},
   "outputs": [],
   "source": [
    "Now, I will write the prediction of logistic regression into the test data."
   ]
  },
  {
   "cell_type": "code",
   "execution_count": null,
   "metadata": {},
   "outputs": [],
   "source": [
    "# Write a new csv that includes columns with the employee's ID, actual attrition, and prediction\n",
    "hr_test <- cbind(hr_test$EmployeeNumber, hr_test$Attrition, hr_test$Attrition_pred_lr_final)\n",
    "write.csv(hr_test, \"hr_attrition_prediction_lr_final.csv\", row.names=FALSE)"
   ]
  },
  {
   "cell_type": "markdown",
   "metadata": {},
   "source": [
    "### METHOD 2 - RANDOM FOREST"
   ]
  },
  {
   "cell_type": "markdown",
   "metadata": {},
   "source": [
    "Now, I will show you how to create a model using Random Forest method. The code below will generate a model using all variables."
   ]
  },
  {
   "cell_type": "code",
   "execution_count": null,
   "metadata": {},
   "outputs": [],
   "source": [
    "# Create a classification model using the \"randomForest\" function using all variables\n",
    "shh(hr_model_rf_initial <- randomForest(Attrition ~ ., data = hr_train, importance=TRUE, ntree=2000))\n",
    "summary(hr_model_rf_initial)\n",
    "varImp(hr_model_rf_initial)"
   ]
  },
  {
   "cell_type": "markdown",
   "metadata": {},
   "source": [
    "Just like the logistic regression model, I narrowed it down to a few variables."
   ]
  },
  {
   "cell_type": "code",
   "execution_count": null,
   "metadata": {},
   "outputs": [],
   "source": [
    "# Create a classification model using the \"randomForest\" function using limited variables\n",
    "shh(hr_model_rf_final<- randomForest(Attrition ~ Age + MonthlyIncome + OverTime + JobLevel, data=hr_train, importance = TRUE))\n",
    "summary(hr_model_rf_final)\n",
    "varImpPlot(hr_model_rf_final)"
   ]
  },
  {
   "cell_type": "markdown",
   "metadata": {},
   "source": [
    "The next step is to create predictions of both models that use all variables and limited variables."
   ]
  },
  {
   "cell_type": "code",
   "execution_count": null,
   "metadata": {},
   "outputs": [],
   "source": [
    "\n",
    "# Predict initial “attrition” for customers in the test data using all variables\n",
    "hr_test$Attrition_pred_rf_initial <- predict(hr_model_rf_initial, newdata=hr_test, type=\"class\")\n",
    "summary(hr_test)\n",
    "\n",
    "# Predict final “attrition” for customers in the test data using limited variables\n",
    "hr_test$Attrition_pred_rf_final <- predict(hr_model_rf_final, newdata=hr_test, type=\"class\")\n",
    "summary(hr_test)"
   ]
  },
  {
   "cell_type": "markdown",
   "metadata": {},
   "source": [
    "Last but not least for this model, I am saving the random forest prediction to the test data."
   ]
  },
  {
   "cell_type": "code",
   "execution_count": null,
   "metadata": {},
   "outputs": [],
   "source": [
    "# Write a new csv that includes columns with the employee's ID, actual attrition, and prediction\n",
    "hr_test <- cbind(hr_test$EmployeeNumber, hr_test$Attrition, hr_test$Attrition_pred_rf_final)\n",
    "write.csv(hr_test, \"hr_attrition_prediction_rf_final.csv\")"
   ]
  },
  {
   "cell_type": "markdown",
   "metadata": {},
   "source": [
    "### EVALUATION"
   ]
  },
  {
   "cell_type": "markdown",
   "metadata": {},
   "source": [
    "#### Evaluating Logistic Regression Model"
   ]
  },
  {
   "cell_type": "markdown",
   "metadata": {},
   "source": [
    "To evaluate our model, I put an illustration in ROC curves, which shows the Area Under the Curve (AUC). This curves shows the comparison between the initial build and final build, which shows that the information from the final model is more accurate.\n",
    "\n",
    "Here is for the Logistic Regression:"
   ]
  },
  {
   "cell_type": "code",
   "execution_count": null,
   "metadata": {},
   "outputs": [],
   "source": [
    "\n",
    "# Generate ROC curves for both version of the Logistic Regression model.\n",
    "ROC_lr_initial <- roc(hr_test$Attrition, hr_test$Attrition_pred_lr_initial)\n",
    "ROC_lr_final <- roc(hr_test$Attrition, hr_test$Attrition_pred_lr_final)\n",
    "\n",
    "# Print the AUC for both versions of the model\n",
    "paste(\"AUC for Logistic Regression Model (all variables):\", round(auc(ROC_lr_initial),2), \"(red)\")\n",
    "paste(\"AUC for Logistic Regression Model (limited variables):\", round(auc(ROC_lr_final),2), \"(blue)\")\n",
    "\n",
    "# Plot the ROC curves.\n",
    "plot.roc(ROC_lr_initial, col=\"red\")\n",
    "lines.roc(ROC_lr_final, col=\"blue\")"
   ]
  },
  {
   "cell_type": "markdown",
   "metadata": {},
   "source": [
    "And here is for the random forest models:"
   ]
  },
  {
   "cell_type": "code",
   "execution_count": null,
   "metadata": {},
   "outputs": [],
   "source": [
    "# Evaluate the random forest models.\n",
    "\n",
    "# Generate ROC curves for both version of the Random Forest model.\n",
    "ROC_rf_initial <- roc(hr_test$Attrition, hr_test$Attrition_pred_rf_initial)\n",
    "ROC_rf_final <- roc(hr_test$Attrition, hr_test$Attrition_pred_rf_final)\n",
    "\n",
    "# Print the AUC for both versions of the model\n",
    "paste(\"AUC for Random Forest Model (all variables):\", round(auc(ROC_rf_initial),2), \"(red)\")\n",
    "paste(\"AUC for Random Forest Model (limited variables):\", round(auc(ROC_rf_final),2), \"(blue)\")\n",
    "\n",
    "# Plot the ROC curves.\n",
    "plot.roc(ROC_rf_initial, col=\"red\")\n",
    "lines.roc(ROC_rf_final, col=\"blue\")"
   ]
  },
  {
   "cell_type": "markdown",
   "metadata": {},
   "source": [
    "## CONCLUSION\n",
    "\n",
    "From the model that I have built, it shows that the Logistic Regression can provide a better curves compared to the Random Forest. It means that the attrition prediction is more dependable, which also shows a better variable that needs to be the main focus to reduce attrition rate."
   ]
  },
  {
   "cell_type": "markdown",
   "metadata": {},
   "source": [
    "## RECOMMENDATION\n",
    "From our new prediction, it shows that the employees with a lot of overtime and high job involvement tend to leave the company. Therefore, the company need to review the workload and job description for the employees.\n",
    "\n",
    "Acording to article by Anna Tergesen on Wall Street Journal, Employers are concerned about the impact on productivity and turnover. Research by Todd Baker, a senior fellow at Columbia University’s Richman Center for Business, Law and Public Policy, looked at 16 companies in the U.K. that offered payroll loans and found that borrowers had, on average, an annualized attrition rate 28% lower than the rate for all employees.\n",
    "\n",
    "For this reason, productivity and turnover need to be the higher focus in the company to reduce attrition rate.\n",
    "\n",
    "Source: https://www.wsj.com/articles/some-companies-offer-a-new-benefit-payroll-advances-and-loans-11567416601\n"
   ]
  },
  {
   "cell_type": "code",
   "execution_count": null,
   "metadata": {},
   "outputs": [],
   "source": []
  }
 ],
 "metadata": {
  "kernelspec": {
   "display_name": "R",
   "language": "R",
   "name": "ir"
  },
  "language_info": {
   "codemirror_mode": "r",
   "file_extension": ".r",
   "mimetype": "text/x-r-source",
   "name": "R",
   "pygments_lexer": "r",
   "version": "3.6.1"
  }
 },
 "nbformat": 4,
 "nbformat_minor": 2
}
